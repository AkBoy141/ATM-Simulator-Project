{
 "cells": [
  {
   "cell_type": "code",
   "execution_count": null,
   "id": "63c19448",
   "metadata": {},
   "outputs": [
    {
     "name": "stdout",
     "output_type": "stream",
     "text": [
      "Enter PIN here: 4545\n",
      "\n",
      "ATM Menu:\n",
      "a. Check Balance\n",
      "b. Deposit\n",
      "c. Withdraw\n",
      "d. Exit\n"
     ]
    }
   ],
   "source": [
    "class ATM:\n",
    "  def __init__(self, pin, balance=8500):\n",
    "      self.pin = pin\n",
    "      self.balance = balance\n",
    "\n",
    "  def check_balance(self):\n",
    "      print(\"Your current balance: {}\".format(self.balance))\n",
    "\n",
    "  def deposit(self, amount):\n",
    "      self.balance = self.balance + amount\n",
    "      print(\"Deposited: {}\".format(amount))\n",
    "      self.check_balance()\n",
    "\n",
    "  def withdraw(self, amount):\n",
    "      if self.balance >= amount:\n",
    "          self.balance = self.balance - amount\n",
    "          print(\"Withdrawn: {}\".format(amount))\n",
    "      else:\n",
    "          print(\"Insufficient balance\")\n",
    "      self.check_balance()\n",
    "\n",
    "def main():\n",
    "  pin = input(\"Enter PIN here: \")\n",
    "  atm = ATM(pin)\n",
    "\n",
    "  while True:\n",
    "      print(\"\\nATM Menu:\")\n",
    "      print(\"a. Check Balance\")\n",
    "      print(\"b. Deposit\")\n",
    "      print(\"c. Withdraw\")\n",
    "      print(\"d. Exit\")\n",
    "      option = input(\"Choose Your option (a,b,c,d): \")\n",
    "\n",
    "      if option == \"a\":\n",
    "          atm.check_balance()\n",
    "      elif option == \"b\":\n",
    "          amount = float(input(\"Enter deposit amount: \"))\n",
    "          atm.deposit(amount)\n",
    "      elif option == \"c\":\n",
    "          amount = float(input(\"Enter withdrawal amount: \"))\n",
    "          atm.withdraw(amount)\n",
    "      elif option == \"d\":\n",
    "          print(\"Thank you for using ATM. Have a nice day ahead!\")\n",
    "          break\n",
    "      else:\n",
    "          print(\"Invalid option. Please try again.\")\n",
    "\n",
    "if __name__ == \"__main__\":\n",
    "  main()\n"
   ]
  },
  {
   "cell_type": "code",
   "execution_count": null,
   "id": "99e73960",
   "metadata": {},
   "outputs": [],
   "source": []
  }
 ],
 "metadata": {
  "kernelspec": {
   "display_name": "Python 3 (ipykernel)",
   "language": "python",
   "name": "python3"
  },
  "language_info": {
   "codemirror_mode": {
    "name": "ipython",
    "version": 3
   },
   "file_extension": ".py",
   "mimetype": "text/x-python",
   "name": "python",
   "nbconvert_exporter": "python",
   "pygments_lexer": "ipython3",
   "version": "3.11.5"
  }
 },
 "nbformat": 4,
 "nbformat_minor": 5
}
